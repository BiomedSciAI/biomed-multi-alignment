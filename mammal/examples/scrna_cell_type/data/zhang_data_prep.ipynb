{
 "cells": [
  {
   "cell_type": "markdown",
   "metadata": {},
   "source": [
    "# Notebook to pack Zhang68k data from x10cell into an AnnData (h5ad) file.  \n",
    "\n"
   ]
  },
  {
   "cell_type": "markdown",
   "metadata": {},
   "source": [
    "This notebook assumes that it is ran from the `bmfm-mammal-release/mammal/examples/scrna_cell_type` directory.  "
   ]
  },
  {
   "cell_type": "code",
   "execution_count": null,
   "metadata": {},
   "outputs": [
    {
     "name": "stdout",
     "output_type": "stream",
     "text": [
      "/u/matanin/git/biomed-multi-alignment/mammal/examples/scrna_cell_type/data\n"
     ]
    }
   ],
   "source": [
    "# check the current directory.  Notice that the `biomed-multi-alignment` will probably be placed in a different location on your system.\n",
    "!pwd"
   ]
  },
  {
   "cell_type": "markdown",
   "metadata": {},
   "source": [
    "\n",
    "## Obtaining the source data:\n",
    "The main data is availble online, for example in the [10xgenomics](https://www.10xgenomics.com/) cite.  The lables are based on the data in [LINK](https://www.10xgenomics.com/datasets/fresh-68-k-pbm-cs-donor-a-1-standard-1-1-0)\n",
    "\n",
    "From this download the file `fresh_68k_pbmc_donor_a_filtered_gene_bc_matrices.tar.gz` and place it in this directory. "
   ]
  },
  {
   "cell_type": "code",
   "execution_count": null,
   "metadata": {},
   "outputs": [
    {
     "name": "stdout",
     "output_type": "stream",
     "text": [
      "total 119M\n",
      " 16K clear_data_prep.ipynb\t\t\t\t       512 README.md\n",
      "119M fresh_68k_pbmc_donor_a_filtered_gene_bc_matrices.tar.gz\n"
     ]
    }
   ],
   "source": [
    "!ls -sh"
   ]
  },
  {
   "cell_type": "markdown",
   "metadata": {},
   "source": [
    "#### Unzip the file."
   ]
  },
  {
   "cell_type": "code",
   "execution_count": null,
   "metadata": {},
   "outputs": [
    {
     "name": "stdout",
     "output_type": "stream",
     "text": [
      "filtered_matrices_mex/\n",
      "filtered_matrices_mex/hg19/\n",
      "filtered_matrices_mex/hg19/barcodes.tsv\n",
      "filtered_matrices_mex/hg19/genes.tsv\n",
      "filtered_matrices_mex/hg19/matrix.mtx\n"
     ]
    }
   ],
   "source": [
    "!tar -xzvf fresh_68k_pbmc_donor_a_filtered_gene_bc_matrices.tar.gz "
   ]
  },
  {
   "cell_type": "markdown",
   "metadata": {},
   "source": [
    "#### download the labels file from a git repository"
   ]
  },
  {
   "cell_type": "code",
   "execution_count": null,
   "metadata": {},
   "outputs": [
    {
     "name": "stdout",
     "output_type": "stream",
     "text": [
      "--2025-02-18 11:24:49--  https://raw.githubusercontent.com/scverse/scanpy_usage/refs/heads/master/170503_zheng17/data/zheng17_bulk_lables.txt\n",
      "Resolving raw.githubusercontent.com (raw.githubusercontent.com)... 185.199.109.133, 185.199.110.133, 185.199.111.133, ...\n",
      "Connecting to raw.githubusercontent.com (raw.githubusercontent.com)|185.199.109.133|:443... connected.\n",
      "HTTP request sent, awaiting response... 200 OK\n",
      "Length: 1348927 (1.3M) [text/plain]\n",
      "Saving to: ‘zheng17_bulk_lables.txt.1’\n",
      "\n",
      "zheng17_bulk_lables 100%[===================>]   1.29M  --.-KB/s    in 0.03s   \n",
      "\n",
      "2025-02-18 11:24:49 (48.3 MB/s) - ‘zheng17_bulk_lables.txt.1’ saved [1348927/1348927]\n",
      "\n"
     ]
    }
   ],
   "source": [
    "!wget https://raw.githubusercontent.com/scverse/scanpy_usage/refs/heads/master/170503_zheng17/data/zheng17_bulk_lables.txt"
   ]
  },
  {
   "cell_type": "markdown",
   "metadata": {},
   "source": [
    "  You should now have a directoy called `filtered_matrices_mex/hg19` "
   ]
  },
  {
   "cell_type": "code",
   "execution_count": null,
   "metadata": {},
   "outputs": [
    {
     "name": "stdout",
     "output_type": "stream",
     "text": [
      ".:\n",
      "total 121M\n",
      " 16K clear_data_prep.ipynb\n",
      " 512 filtered_matrices_mex\n",
      "119M fresh_68k_pbmc_donor_a_filtered_gene_bc_matrices.tar.gz\n",
      " 512 README.md\n",
      "1.8M zheng17_bulk_lables.txt\n",
      "\n",
      "./filtered_matrices_mex:\n",
      "total 512\n",
      "512 hg19\n",
      "\n",
      "./filtered_matrices_mex/hg19:\n",
      "total 485M\n",
      "1.2M barcodes.tsv  800K genes.tsv  484M matrix.mtx\n"
     ]
    }
   ],
   "source": [
    "!ls -shR --color=never\n"
   ]
  },
  {
   "cell_type": "markdown",
   "metadata": {},
   "source": [
    "The output should be something like\n",
    "\n",
    "```\n",
    ".:\n",
    "total 121M\n",
    " 16K clear_data_prep.ipynb\n",
    " 512 filtered_matrices_mex\n",
    "119M fresh_68k_pbmc_donor_a_filtered_gene_bc_matrices.tar.gz\n",
    " 512 README.md\n",
    "1.8M zheng17_bulk_lables.txt\n",
    "\n",
    "./filtered_matrices_mex:\n",
    "total 512\n",
    "512 hg19\n",
    "\n",
    "./filtered_matrices_mex/hg19:\n",
    "total 485M\n",
    "1.2M barcodes.tsv  800K genes.tsv  484M matrix.mtx"
   ]
  },
  {
   "cell_type": "markdown",
   "metadata": {},
   "source": [
    "## Pack the data into an AnnData file "
   ]
  },
  {
   "cell_type": "code",
   "execution_count": null,
   "metadata": {},
   "outputs": [],
   "source": [
    "import anndata \n",
    "# from collections import Counter\n",
    "import pandas as pd\n",
    "# import matplotlib.pyplot as plt\n",
    "# import math\n",
    "import numpy as np\n",
    "# from scipy.sparse import csr_matrix\n",
    "from scipy.io import mmread\n",
    "import scanpy as sc"
   ]
  },
  {
   "cell_type": "markdown",
   "metadata": {},
   "source": [
    "#### Read the scRNA matrix from a file\n"
   ]
  },
  {
   "cell_type": "code",
   "execution_count": null,
   "metadata": {},
   "outputs": [],
   "source": [
    "mmx = mmread(\"filtered_matrices_mex/hg19/matrix.mtx\")\n"
   ]
  },
  {
   "cell_type": "markdown",
   "metadata": {},
   "source": [
    "#### Create an AnnData object wrapping the read data\n",
    "\n",
    "Notice that this code transposes the data to the correct direction"
   ]
  },
  {
   "cell_type": "code",
   "execution_count": null,
   "metadata": {},
   "outputs": [
    {
     "name": "stdout",
     "output_type": "stream",
     "text": [
      "(68579, 32738)\n"
     ]
    }
   ],
   "source": [
    " \n",
    "anndata_object = anndata.AnnData(X=mmx.transpose().tocsr())\n",
    "print(anndata_object.X.shape)"
   ]
  },
  {
   "cell_type": "code",
   "execution_count": null,
   "metadata": {},
   "outputs": [],
   "source": [
    "# Cell identifiers\n",
    "barcodes = pd.read_csv(\"filtered_matrices_mex/hg19/barcodes.tsv\",header=None,sep=\"\\t\")\n",
    "# names of genes\n",
    "genes = pd.read_csv(\"filtered_matrices_mex/hg19/genes.tsv\",header=None,sep=\"\\t\")\n"
   ]
  },
  {
   "cell_type": "code",
   "execution_count": null,
   "metadata": {},
   "outputs": [],
   "source": [
    "# cell types (this is actualy just one column)\n",
    "cell_type_lables = pd.read_csv(\"zheng17_bulk_lables.txt\",header=None,sep=\"\\t\")"
   ]
  },
  {
   "cell_type": "code",
   "execution_count": null,
   "metadata": {},
   "outputs": [],
   "source": [
    "\n",
    "# use the gene names as variable names in the AnnData object\n",
    "anndata_object.var_names=genes[1]\n",
    "\n",
    "# use the cell barcodes as names for the samples\n",
    "anndata_object.obs_names=barcodes[0]\n",
    "\n"
   ]
  },
  {
   "cell_type": "code",
   "execution_count": null,
   "metadata": {},
   "outputs": [],
   "source": [
    "\n",
    "# use cell types as labels for the samples\n",
    "anndata_object.obs['celltype']=cell_type_lables.squeeze().to_numpy()"
   ]
  },
  {
   "cell_type": "code",
   "execution_count": null,
   "metadata": {},
   "outputs": [],
   "source": [
    "# Save result anndata object to disk\n",
    "anndata_object.write_h5ad(\"Zhang_68k_processed.h5ad\")"
   ]
  },
  {
   "cell_type": "code",
   "execution_count": null,
   "metadata": {},
   "outputs": [
    {
     "name": "stderr",
     "output_type": "stream",
     "text": [
      "/u/matanin/git/mammal-extension/.venv/lib/python3.10/site-packages/anndata/_core/anndata.py:1758: UserWarning: Variable names are not unique. To make them unique, call `.var_names_make_unique`.\n",
      "  utils.warn_names_duplicates(\"var\")\n",
      "/u/matanin/git/mammal-extension/.venv/lib/python3.10/site-packages/anndata/_core/anndata.py:1758: UserWarning: Variable names are not unique. To make them unique, call `.var_names_make_unique`.\n",
      "  utils.warn_names_duplicates(\"var\")\n",
      "/tmp/ipykernel_2821082/2155608250.py:4: FutureWarning: The specified parameters ('target_sum',) are no longer positional. Please specify them like `target_sum=1000.0`\n",
      "  sc.pp.normalize_total(anndata_object,1000.)\n"
     ]
    }
   ],
   "source": [
    "# process the data - filter out cells with shallow reads, normelize depth and change to log scale of about 0-10 (log_2(1001)~=10)\n",
    "\n",
    "sc.pp.filter_cells(anndata_object,min_genes=200)\n",
    "sc.pp.normalize_total(anndata_object,1000.)\n",
    "sc.pp.log1p(anndata_object,base=2)\n"
   ]
  },
  {
   "cell_type": "code",
   "execution_count": null,
   "metadata": {},
   "outputs": [
    {
     "data": {
      "text/plain": [
       "(0.13107747734466052, 7.542680157842554)"
      ]
     },
     "execution_count": null,
     "metadata": {},
     "output_type": "execute_result"
    }
   ],
   "source": [
    "anndata_object.X.data.min(), anndata_object.X.max()"
   ]
  },
  {
   "cell_type": "code",
   "execution_count": null,
   "metadata": {},
   "outputs": [
    {
     "data": {
      "text/plain": [
       "array([0.13107748, 0.87223775, 1.61339801, 2.35455828, 3.09571855,\n",
       "       3.83687882, 4.57803909, 5.31919935, 6.06035962, 6.80151989,\n",
       "       7.54268016])"
      ]
     },
     "execution_count": null,
     "metadata": {},
     "output_type": "execute_result"
    }
   ],
   "source": [
    "# split range to bins - more or less 0,2,3,..10\n",
    "bins=np.linspace(anndata_object.X.data.min(), anndata_object.X.max(),num=11)\n",
    "bins"
   ]
  },
  {
   "cell_type": "code",
   "execution_count": null,
   "metadata": {},
   "outputs": [],
   "source": [
    "# convert the counts to bins\n",
    "anndata_object.X.data=np.digitize(anndata_object.X.data, bins)"
   ]
  },
  {
   "cell_type": "code",
   "execution_count": null,
   "metadata": {},
   "outputs": [],
   "source": [
    "# Save result anndata object to disk\n",
    "anndata_object.write_h5ad(\"Zhang68k_filtered.h5ad\")"
   ]
  },
  {
   "cell_type": "code",
   "execution_count": null,
   "metadata": {},
   "outputs": [],
   "source": [
    "def convert_to_double_sorted_geneformer_sequance(anndata_object):\n",
    "    # the genes are sorted by expression bin (decending) and within the bin by the gene names.\n",
    "    \n",
    "    return [a[1] for a in sorted(zip(-anndata_object.X.data,anndata_object.var_names.to_numpy()[anndata_object.X.indices]))]"
   ]
  },
  {
   "cell_type": "code",
   "execution_count": null,
   "metadata": {},
   "outputs": [
    {
     "ename": "KeyboardInterrupt",
     "evalue": "",
     "output_type": "error",
     "traceback": [
      "\u001b[0;31m---------------------------------------------------------------------------\u001b[0m",
      "\u001b[0;31mKeyboardInterrupt\u001b[0m                         Traceback (most recent call last)",
      "Cell \u001b[0;32mIn[42], line 1\u001b[0m\n\u001b[0;32m----> 1\u001b[0m \u001b[43mconvert_to_double_sorted_geneformer_sequance\u001b[49m\u001b[43m(\u001b[49m\u001b[43manndata_object\u001b[49m\u001b[43m)\u001b[49m\n",
      "Cell \u001b[0;32mIn[41], line 4\u001b[0m, in \u001b[0;36mconvert_to_double_sorted_geneformer_sequance\u001b[0;34m(anndata_object)\u001b[0m\n\u001b[1;32m      1\u001b[0m \u001b[38;5;28;01mdef\u001b[39;00m\u001b[38;5;250m \u001b[39m\u001b[38;5;21mconvert_to_double_sorted_geneformer_sequance\u001b[39m(anndata_object):\n\u001b[1;32m      2\u001b[0m     \u001b[38;5;66;03m# the genes are sorted by expression bin (decending) and within the bin by the gene names.\u001b[39;00m\n\u001b[0;32m----> 4\u001b[0m     \u001b[38;5;28;01mreturn\u001b[39;00m [a[\u001b[38;5;241m1\u001b[39m] \u001b[38;5;28;01mfor\u001b[39;00m a \u001b[38;5;129;01min\u001b[39;00m \u001b[38;5;28msorted\u001b[39m(\u001b[38;5;28mzip\u001b[39m(\u001b[38;5;241m-\u001b[39manndata_object\u001b[38;5;241m.\u001b[39mX\u001b[38;5;241m.\u001b[39mdata,anndata_object\u001b[38;5;241m.\u001b[39mvar_names\u001b[38;5;241m.\u001b[39mto_numpy()[anndata_object\u001b[38;5;241m.\u001b[39mX\u001b[38;5;241m.\u001b[39mindices]))]\n",
      "\u001b[0;31mKeyboardInterrupt\u001b[0m: "
     ]
    }
   ],
   "source": [
    "convert_to_double_sorted_geneformer_sequance(anndata_object)"
   ]
  },
  {
   "cell_type": "code",
   "execution_count": null,
   "metadata": {},
   "outputs": [
    {
     "ename": "AttributeError",
     "evalue": "'AnnData' object has no attribute 'keys'",
     "output_type": "error",
     "traceback": [
      "\u001b[0;31m---------------------------------------------------------------------------\u001b[0m",
      "\u001b[0;31mAttributeError\u001b[0m                            Traceback (most recent call last)",
      "Cell \u001b[0;32mIn[40], line 1\u001b[0m\n\u001b[0;32m----> 1\u001b[0m \u001b[43manndata_object\u001b[49m\u001b[38;5;241;43m.\u001b[39;49m\u001b[43mkeys\u001b[49m\n",
      "\u001b[0;31mAttributeError\u001b[0m: 'AnnData' object has no attribute 'keys'"
     ]
    }
   ],
   "source": [
    "anndata_object.n_obs"
   ]
  }
 ],
 "metadata": {
  "kernelspec": {
   "display_name": ".venv",
   "language": "python",
   "name": "python3"
  },
  "language_info": {
   "codemirror_mode": {
    "name": "ipython",
    "version": 3
   },
   "file_extension": ".py",
   "mimetype": "text/x-python",
   "name": "python",
   "nbconvert_exporter": "python",
   "pygments_lexer": "ipython3"
  }
 },
 "nbformat": 4,
 "nbformat_minor": 2
}
