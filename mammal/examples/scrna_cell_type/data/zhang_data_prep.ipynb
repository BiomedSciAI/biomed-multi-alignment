{
 "cells": [
  {
   "cell_type": "markdown",
   "metadata": {},
   "source": [
    "# Notebook to pack Zhang68k data from x10cell into an AnnData (h5ad) file.  \n",
    "\n"
   ]
  },
  {
   "cell_type": "markdown",
   "metadata": {},
   "source": [
    "This notebook assumes that it is ran from the `bmfm-mammal-release/mammal/examples/scrna_cell_type` directory.  "
   ]
  },
  {
   "cell_type": "code",
   "execution_count": null,
   "metadata": {},
   "outputs": [
    {
     "name": "stdout",
     "output_type": "stream",
     "text": [
      "~/git/biomed-multi-alignment/mammal/examples/scrna_cell_type/data\n"
     ]
    }
   ],
   "source": [
    "# check the current directory. \n",
    "# Notice that the `biomed-multi-alignment` will probably be placed in a different location on your system.\n",
    "\n",
    "# this is just a fancy pwd, replace with !pwd if you need\n",
    "!print -D $PWD"
   ]
  },
  {
   "cell_type": "markdown",
   "metadata": {},
   "source": [
    "\n",
    "## Obtaining the source data:\n",
    "The main data is availble online, for example in the [10xgenomics](https://www.10xgenomics.com/) cite.  The lables are based on the data in [LINK](https://www.10xgenomics.com/datasets/fresh-68-k-pbm-cs-donor-a-1-standard-1-1-0)\n",
    "\n",
    "From this download the file `fresh_68k_pbmc_donor_a_filtered_gene_bc_matrices.tar.gz` and place it in this directory. "
   ]
  },
  {
   "cell_type": "code",
   "execution_count": null,
   "metadata": {},
   "outputs": [
    {
     "name": "stdout",
     "output_type": "stream",
     "text": [
      "total 243088\n",
      "     8 README.md\n",
      "243056 fresh_68k_pbmc_donor_a_filtered_gene_bc_matrices.tar.gz\n",
      "    24 zhang_data_prep.ipynb\n"
     ]
    }
   ],
   "source": [
    "!ls -sh"
   ]
  },
  {
   "cell_type": "markdown",
   "metadata": {},
   "source": [
    "#### Unzip the file."
   ]
  },
  {
   "cell_type": "code",
   "execution_count": null,
   "metadata": {},
   "outputs": [
    {
     "name": "stdout",
     "output_type": "stream",
     "text": [
      "x filtered_matrices_mex/\n",
      "x filtered_matrices_mex/hg19/\n",
      "x filtered_matrices_mex/hg19/barcodes.tsv\n",
      "x filtered_matrices_mex/hg19/genes.tsv\n",
      "x filtered_matrices_mex/hg19/matrix.mtx\n"
     ]
    }
   ],
   "source": [
    "!tar -xzvf fresh_68k_pbmc_donor_a_filtered_gene_bc_matrices.tar.gz "
   ]
  },
  {
   "cell_type": "markdown",
   "metadata": {},
   "source": [
    "#### download the labels file from a git repository in https://github.com/scverse/scanpy_usage"
   ]
  },
  {
   "cell_type": "code",
   "execution_count": null,
   "metadata": {},
   "outputs": [
    {
     "name": "stdout",
     "output_type": "stream",
     "text": [
      "--2025-02-18 12:15:10--  https://raw.githubusercontent.com/scverse/scanpy_usage/refs/heads/master/170503_zheng17/data/zheng17_bulk_lables.txt\n",
      "Resolving raw.githubusercontent.com (raw.githubusercontent.com)... 2606:50c0:8003::154, 2606:50c0:8000::154, 2606:50c0:8001::154, ...\n",
      "Connecting to raw.githubusercontent.com (raw.githubusercontent.com)|2606:50c0:8003::154|:443... connected.\n",
      "HTTP request sent, awaiting response... 200 OK\n",
      "Length: 1348927 (1.3M) [text/plain]\n",
      "Saving to: ‘zheng17_bulk_lables.txt’\n",
      "\n",
      "zheng17_bulk_lables 100%[===================>]   1.29M  3.59MB/s    in 0.4s    \n",
      "\n",
      "2025-02-18 12:15:11 (3.59 MB/s) - ‘zheng17_bulk_lables.txt’ saved [1348927/1348927]\n",
      "\n"
     ]
    }
   ],
   "source": [
    "!wget https://raw.githubusercontent.com/scverse/scanpy_usage/refs/heads/master/170503_zheng17/data/zheng17_bulk_lables.txt"
   ]
  },
  {
   "cell_type": "markdown",
   "metadata": {},
   "source": [
    "  You should now have a directoy called `filtered_matrices_mex/hg19` "
   ]
  },
  {
   "cell_type": "code",
   "execution_count": null,
   "metadata": {},
   "outputs": [
    {
     "name": "stdout",
     "output_type": "stream",
     "text": [
      "total 245728\n",
      "     8 README.md\n",
      "     0 filtered_matrices_mex\n",
      "243056 fresh_68k_pbmc_donor_a_filtered_gene_bc_matrices.tar.gz\n",
      "    24 zhang_data_prep.ipynb\n",
      "  2640 zheng17_bulk_lables.txt\n",
      "\n",
      "./filtered_matrices_mex:\n",
      "total 0\n",
      "0 hg19\n",
      "\n",
      "./filtered_matrices_mex/hg19:\n",
      "total 993144\n",
      "  2280 barcodes.tsv\t  1600 genes.tsv\t989264 matrix.mtx\n"
     ]
    }
   ],
   "source": [
    "!ls -shR --color=never\n"
   ]
  },
  {
   "cell_type": "markdown",
   "metadata": {},
   "source": [
    "The output should be something like\n",
    "\n",
    "```\n",
    "total 245728\n",
    "     8 README.md\n",
    "     0 filtered_matrices_mex\n",
    "243056 fresh_68k_pbmc_donor_a_filtered_gene_bc_matrices.tar.gz\n",
    "    24 zhang_data_prep.ipynb\n",
    "  2640 zheng17_bulk_lables.txt\n",
    "\n",
    "./filtered_matrices_mex:\n",
    "total 0\n",
    "0 hg19\n",
    "\n",
    "./filtered_matrices_mex/hg19:\n",
    "total 993144\n",
    "  2280 barcodes.tsv\t  1600 genes.tsv\t989264 matrix.mtx"
   ]
  },
  {
   "cell_type": "markdown",
   "metadata": {},
   "source": [
    "## Pack the data into an AnnData file "
   ]
  },
  {
   "cell_type": "code",
   "execution_count": null,
   "metadata": {},
   "outputs": [],
   "source": [
    "import anndata \n",
    "# from collections import Counter\n",
    "import pandas as pd\n",
    "# import matplotlib.pyplot as plt\n",
    "# import math\n",
    "import numpy as np\n",
    "# from scipy.sparse import csr_matrix\n",
    "from scipy.io import mmread\n",
    "import scanpy as sc"
   ]
  },
  {
   "cell_type": "markdown",
   "metadata": {},
   "source": [
    "#### Read the scRNA matrix from a file\n"
   ]
  },
  {
   "cell_type": "code",
   "execution_count": null,
   "metadata": {},
   "outputs": [],
   "source": [
    "mmx = mmread(\"filtered_matrices_mex/hg19/matrix.mtx\")\n"
   ]
  },
  {
   "cell_type": "markdown",
   "metadata": {},
   "source": [
    "#### Create an AnnData object wrapping the read data\n",
    "\n",
    "Notice that this code transposes the data to the correct direction"
   ]
  },
  {
   "cell_type": "code",
   "execution_count": null,
   "metadata": {},
   "outputs": [
    {
     "name": "stdout",
     "output_type": "stream",
     "text": [
      "(68579, 32738)\n"
     ]
    }
   ],
   "source": [
    " \n",
    "anndata_object = anndata.AnnData(X=mmx.transpose().tocsr())\n",
    "print(anndata_object.X.shape)"
   ]
  },
  {
   "cell_type": "code",
   "execution_count": null,
   "metadata": {},
   "outputs": [],
   "source": [
    "# Cell identifiers\n",
    "barcodes = pd.read_csv(\"filtered_matrices_mex/hg19/barcodes.tsv\",header=None,sep=\"\\t\")\n",
    "# names of genes\n",
    "genes = pd.read_csv(\"filtered_matrices_mex/hg19/genes.tsv\",header=None,sep=\"\\t\")\n"
   ]
  },
  {
   "cell_type": "code",
   "execution_count": null,
   "metadata": {},
   "outputs": [],
   "source": [
    "# cell types (this is actualy just one column)\n",
    "cell_type_lables = pd.read_csv(\"zheng17_bulk_lables.txt\",header=None,sep=\"\\t\")"
   ]
  },
  {
   "cell_type": "code",
   "execution_count": null,
   "metadata": {},
   "outputs": [],
   "source": [
    "\n",
    "# use the gene names as variable names in the AnnData object\n",
    "anndata_object.var_names=genes[1]\n",
    "\n",
    "# use the cell barcodes as names for the samples\n",
    "anndata_object.obs_names=barcodes[0]\n",
    "\n"
   ]
  },
  {
   "cell_type": "code",
   "execution_count": null,
   "metadata": {},
   "outputs": [],
   "source": [
    "\n",
    "# use cell types as labels for the samples\n",
    "anndata_object.obs['celltype']=cell_type_lables.squeeze().to_numpy()"
   ]
  },
  {
   "cell_type": "code",
   "execution_count": null,
   "metadata": {},
   "outputs": [],
   "source": [
    "# Save result anndata object to disk\n",
    "anndata_object.write_h5ad(\"Zhang_68k.h5ad\")"
   ]
  },
  {
   "cell_type": "markdown",
   "metadata": {},
   "source": [
    "## And the annData file is ready in the data directory."
   ]
  },
  {
   "cell_type": "code",
   "execution_count": null,
   "metadata": {},
   "outputs": [],
   "source": [
    "# # process the data - filter out cells with shallow reads, normelize depth and change to log scale of about 0-10 (log_2(1001)~=10)\n",
    "\n",
    "# sc.pp.filter_cells(anndata_object,min_genes=200)\n",
    "# sc.pp.normalize_total(anndata_object,1000.)å\n",
    "# sc.pp.log1p(anndata_object,base=2)\n"
   ]
  },
  {
   "cell_type": "code",
   "execution_count": null,
   "metadata": {},
   "outputs": [],
   "source": [
    "# anndata_object.X.data.min(), anndata_object.X.max()"
   ]
  },
  {
   "cell_type": "code",
   "execution_count": null,
   "metadata": {},
   "outputs": [],
   "source": [
    "# # split range to bins - more or less 0,2,3,..10\n",
    "# bins=np.linspace(anndata_object.X.data.min(), anndata_object.X.max(),num=11)\n",
    "# bins"
   ]
  },
  {
   "cell_type": "code",
   "execution_count": null,
   "metadata": {},
   "outputs": [],
   "source": [
    "# # convert the counts to bins\n",
    "# anndata_object.X.data=np.digitize(anndata_object.X.data, bins)"
   ]
  },
  {
   "cell_type": "code",
   "execution_count": null,
   "metadata": {},
   "outputs": [],
   "source": [
    "# # Save result anndata object to disk\n",
    "# anndata_object.write_h5ad(\"Zhang68k_filtered.h5ad\")"
   ]
  },
  {
   "cell_type": "code",
   "execution_count": null,
   "metadata": {},
   "outputs": [],
   "source": [
    "# def convert_to_double_sorted_geneformer_sequance(anndata_object):\n",
    "#     # the genes are sorted by expression bin (decending) and within the bin by the gene names.\n",
    "    \n",
    "#     return [a[1] for a in sorted(zip(-anndata_object.X.data,anndata_object.var_names.to_numpy()[anndata_object.X.indices]))]"
   ]
  },
  {
   "cell_type": "code",
   "execution_count": null,
   "metadata": {},
   "outputs": [],
   "source": [
    "# convert_to_double_sorted_geneformer_sequance(anndata_object)"
   ]
  },
  {
   "cell_type": "code",
   "execution_count": null,
   "metadata": {},
   "outputs": [],
   "source": [
    "# anndata_object.n_obs"
   ]
  }
 ],
 "metadata": {
  "kernelspec": {
   "display_name": "mammal11",
   "language": "python",
   "name": "python3"
  },
  "language_info": {
   "codemirror_mode": {
    "name": "ipython",
    "version": 3
   },
   "file_extension": ".py",
   "mimetype": "text/x-python",
   "name": "python",
   "nbconvert_exporter": "python",
   "pygments_lexer": "ipython3"
  }
 },
 "nbformat": 4,
 "nbformat_minor": 2
}
