{
 "cells": [
  {
   "cell_type": "markdown",
   "metadata": {},
   "source": [
    "# Notebook to pack zheng68k data from x10genomics into an AnnData (h5ad) file.  \n",
    "\n",
    "This example follows [Zheng]() for identification of white blood cell types from single cell RNA expression data.\n",
    "\n",
    "\n",
    "## Outline of process\n",
    "The finetune process requires the input data to be in AnnData (h5ad) format with the cell types\n",
    "as labels. If the data is not packed as AnnData, as is the case when downloading from the\n",
    "10xGenomics site as explained below, it need to first be packed into one and saved to the disk.\n",
    "\n",
    "Once the data is in AnnData format, it needs to be canonized via data and variable name transformations.\n",
    "After the transformations the filtered and canonized data may be saved again in AnnData format or used directly.  This data can be used by the training process.\n",
    "\n",
    "In the training process, each sample is transformed into a GeneFormer like ordered list of genes, which is done by sorting all the genes by binned expression level and within each bin alphabetically by the gene name (as it is used in the tokenizer).\n",
    "This is done inside the task.process_model_output method, together with input preparations and tokenizations.\n",
    "\n",
    "\n",
    "\n",
    "\n",
    "## preprocessing data transformations\n",
    "\n",
    "There is a commented example of this process at the end of this notebook.  \n",
    "\n",
    "* Filter out cell with less then 200 active genes\n",
    "\n",
    "        scanpy.pp.filter_cells(anndata_object,min_genes=200)\n",
    "\n",
    "\n",
    "\n",
    "* Normelize the sum of counts for each cell to a constant (1000)\n",
    "\n",
    "        scanpy.pp.normalize_total(anndata_object,1000.)\n",
    "\n",
    "\n",
    "* Move to log space (note,the data prior to this step will be in the range 0-10 so scanpy may issue a warning that the data has allready beed log-scaled)\n",
    "\n",
    "        scanpy.pp.log1p(anndata_object,base=2)\n",
    "\n",
    "\n",
    "* split the full range of values into bins and digitize the values\n",
    "\n",
    "        bins=np.linspace(anndata_object.X.data.min(), anndata_object.X.max(),num=10)\n",
    "        anndata_object.X.data=np.digitize(anndata_object.X.data, bins)\n",
    "\n",
    "    Note that this was done over all the data, but that is not likely to cause any bleeding from the test sets\n",
    "\n"
   ]
  },
  {
   "cell_type": "markdown",
   "metadata": {},
   "source": [
    "This notebook assumes that it is run from the `bmfm-mammal-release/mammal/examples/scrna_cell_type` directory (\"the current directory\").  "
   ]
  },
  {
   "cell_type": "code",
   "execution_count": null,
   "metadata": {},
   "outputs": [
    {
     "name": "stdout",
     "output_type": "stream",
     "text": [
      "~/git/biomed-multi-alignment/mammal/examples/scrna_cell_type/data\n"
     ]
    }
   ],
   "source": [
    "# check the current directory. \n",
    "# Notice that the `biomed-multi-alignment` will probably be placed in a different location on your system.\n",
    "\n",
    "# this is just a fancy pwd, replace with !pwd if you need\n",
    "!print -D $PWD"
   ]
  },
  {
   "cell_type": "markdown",
   "metadata": {},
   "source": [
    "\n",
    "## Obtaining the source data:\n",
    "The main data is available online, for example in the [10xGenomics](https://www.10xgenomics.com/) cite.  The labels are based on the data in [LINK](https://www.10xgenomics.com/datasets/fresh-68-k-pbm-cs-donor-a-1-standard-1-1-0)\n",
    "\n",
    "From this download the file `fresh_68k_pbmc_donor_a_filtered_gene_bc_matrices.tar.gz` and place it in this directory. "
   ]
  },
  {
   "cell_type": "code",
   "execution_count": null,
   "metadata": {},
   "outputs": [
    {
     "name": "stdout",
     "output_type": "stream",
     "text": [
      "total 243096\n",
      "    32 Zheng68k_data_prep.ipynb\n",
      "     0 \u001b[34mfiltered_matrices_mex\u001b[m\u001b[m\n",
      "243056 fresh_68k_pbmc_donor_a_filtered_gene_bc_matrices.tar.gz\n",
      "     8 process_h5ad_data.py\n"
     ]
    }
   ],
   "source": [
    "!ls -sh"
   ]
  },
  {
   "cell_type": "markdown",
   "metadata": {},
   "source": [
    "#### Unzip the file."
   ]
  },
  {
   "cell_type": "code",
   "execution_count": null,
   "metadata": {},
   "outputs": [
    {
     "name": "stdout",
     "output_type": "stream",
     "text": [
      "x filtered_matrices_mex/\n",
      "x filtered_matrices_mex/hg19/\n",
      "x filtered_matrices_mex/hg19/barcodes.tsv\n",
      "x filtered_matrices_mex/hg19/genes.tsv\n",
      "x filtered_matrices_mex/hg19/matrix.mtx\n"
     ]
    }
   ],
   "source": [
    "!tar -xzvf fresh_68k_pbmc_donor_a_filtered_gene_bc_matrices.tar.gz "
   ]
  },
  {
   "cell_type": "markdown",
   "metadata": {},
   "source": [
    "#### Download the labels file from a git repository in https://github.com/scverse/scanpy_usage"
   ]
  },
  {
   "cell_type": "code",
   "execution_count": null,
   "metadata": {},
   "outputs": [
    {
     "name": "stdout",
     "output_type": "stream",
     "text": [
      "--2025-02-19 12:50:16--  https://raw.githubusercontent.com/scverse/scanpy_usage/refs/heads/master/170503_zheng17/data/zheng17_bulk_lables.txt\n",
      "Resolving raw.githubusercontent.com (raw.githubusercontent.com)... 2606:50c0:8001::154, 2606:50c0:8002::154, 2606:50c0:8003::154, ...\n",
      "Connecting to raw.githubusercontent.com (raw.githubusercontent.com)|2606:50c0:8001::154|:443... connected.\n",
      "HTTP request sent, awaiting response... 200 OK\n",
      "Length: 1348927 (1.3M) [text/plain]\n",
      "Saving to: ‘zheng17_bulk_lables.txt’\n",
      "\n",
      "zheng17_bulk_lables 100%[===================>]   1.29M  3.78MB/s    in 0.3s    \n",
      "\n",
      "2025-02-19 12:50:16 (3.78 MB/s) - ‘zheng17_bulk_lables.txt’ saved [1348927/1348927]\n",
      "\n"
     ]
    }
   ],
   "source": [
    "!wget https://raw.githubusercontent.com/scverse/scanpy_usage/refs/heads/master/170503_zheng17/data/zheng17_bulk_lables.txt"
   ]
  },
  {
   "cell_type": "markdown",
   "metadata": {},
   "source": [
    "  You should now have a directory called `filtered_matrices_mex/hg19` "
   ]
  },
  {
   "cell_type": "code",
   "execution_count": null,
   "metadata": {},
   "outputs": [
    {
     "name": "stdout",
     "output_type": "stream",
     "text": [
      "total 245736\n",
      "    32 Zheng68k_data_prep.ipynb\n",
      "     0 filtered_matrices_mex\n",
      "243056 fresh_68k_pbmc_donor_a_filtered_gene_bc_matrices.tar.gz\n",
      "     8 process_h5ad_data.py\n",
      "  2640 zheng17_bulk_lables.txt\n",
      "\n",
      "./filtered_matrices_mex:\n",
      "total 0\n",
      "0 hg19\n",
      "\n",
      "./filtered_matrices_mex/hg19:\n",
      "total 993144\n",
      "  2280 barcodes.tsv\t  1600 genes.tsv\t989264 matrix.mtx\n"
     ]
    }
   ],
   "source": [
    "!ls -shR --color=never\n"
   ]
  },
  {
   "cell_type": "markdown",
   "metadata": {},
   "source": [
    "The output should be something like\n",
    "\n",
    "```total 245736\n",
    "    32 Zheng68k_data_prep.ipynb\n",
    "     0 filtered_matrices_mex\n",
    "243056 fresh_68k_pbmc_donor_a_filtered_gene_bc_matrices.tar.gz\n",
    "     8 process_h5ad_data.py\n",
    "  2640 zheng17_bulk_lables.txt\n",
    "\n",
    "./filtered_matrices_mex:\n",
    "total 0\n",
    "0 hg19\n",
    "\n",
    "./filtered_matrices_mex/hg19:\n",
    "total 993144\n",
    "  2280 barcodes.tsv\t  1600 genes.tsv\t989264 matrix.mtx\n",
    "  ```"
   ]
  },
  {
   "cell_type": "markdown",
   "metadata": {},
   "source": [
    "## Pack the data into an AnnData file "
   ]
  },
  {
   "cell_type": "code",
   "execution_count": null,
   "metadata": {},
   "outputs": [],
   "source": [
    "import anndata \n",
    "# from collections import Counter\n",
    "import pandas as pd\n",
    "# import matplotlib.pyplot as plt\n",
    "# import math\n",
    "import numpy as np\n",
    "# from scipy.sparse import csr_matrix\n",
    "from scipy.io import mmread\n",
    "import scanpy as sc"
   ]
  },
  {
   "cell_type": "markdown",
   "metadata": {},
   "source": [
    "#### Read the scRNA matrix from a file\n"
   ]
  },
  {
   "cell_type": "code",
   "execution_count": null,
   "metadata": {},
   "outputs": [],
   "source": [
    "mmx = mmread(\"filtered_matrices_mex/hg19/matrix.mtx\")\n"
   ]
  },
  {
   "cell_type": "markdown",
   "metadata": {},
   "source": [
    "#### Create an AnnData object wrapping the read data\n",
    "\n",
    "Notice that this code transposes the data to the correct direction"
   ]
  },
  {
   "cell_type": "code",
   "execution_count": null,
   "metadata": {},
   "outputs": [
    {
     "name": "stdout",
     "output_type": "stream",
     "text": [
      "(68579, 32738)\n"
     ]
    }
   ],
   "source": [
    " \n",
    "anndata_object = anndata.AnnData(X=mmx.transpose().tocsr())\n",
    "print(anndata_object.X.shape)"
   ]
  },
  {
   "cell_type": "code",
   "execution_count": null,
   "metadata": {},
   "outputs": [],
   "source": [
    "# Cell identifiers\n",
    "barcodes = pd.read_csv(\"filtered_matrices_mex/hg19/barcodes.tsv\",header=None,sep=\"\\t\")\n",
    "# names of genes\n",
    "genes = pd.read_csv(\"filtered_matrices_mex/hg19/genes.tsv\",header=None,sep=\"\\t\")\n"
   ]
  },
  {
   "cell_type": "code",
   "execution_count": null,
   "metadata": {},
   "outputs": [],
   "source": [
    "# cell types (this is actualy just one column)\n",
    "cell_type_lables = pd.read_csv(\"zheng17_bulk_lables.txt\",header=None,sep=\"\\t\")"
   ]
  },
  {
   "cell_type": "code",
   "execution_count": null,
   "metadata": {},
   "outputs": [],
   "source": [
    "\n",
    "# use the gene names as variable names in the AnnData object\n",
    "anndata_object.var_names=genes[1]\n",
    "\n",
    "# use the cell barcodes as names for the samples\n",
    "anndata_object.obs_names=barcodes[0]\n",
    "\n"
   ]
  },
  {
   "cell_type": "code",
   "execution_count": null,
   "metadata": {},
   "outputs": [],
   "source": [
    "\n",
    "# use cell types as labels for the samples\n",
    "anndata_object.obs['celltype']=cell_type_lables.squeeze().to_numpy()"
   ]
  },
  {
   "cell_type": "code",
   "execution_count": null,
   "metadata": {},
   "outputs": [],
   "source": [
    "# Save result anndata object to disk\n",
    "anndata_object.write_h5ad(\"Zheng_68k.h5ad\")"
   ]
  },
  {
   "cell_type": "markdown",
   "metadata": {},
   "source": [
    "This is a standard AnnData file, and can be replaced by your own data.\n",
    "\n",
    "The code requires a simple preprocessing stage to get it to a standard form.  [process_h5ad_data.py] is a script that can be used to run the preprocessing stage.\n",
    "\n",
    "This script can be used to filter and process the AnnData\n",
    "\n",
    "    > python process+h5ad_data.py --input-h5ad-file Zheng_68k.h5ad --output-h5ad-file Zheng_68k_filtered.h5ad\n",
    "\n",
    "The parameters of the processing can be controlled from the command line.  Use\n",
    "\n",
    "    >  python process+h5ad_data.py --help\n",
    "\n",
    "for a list of available parameters"
   ]
  },
  {
   "cell_type": "markdown",
   "metadata": {},
   "source": [
    "### And the annData file is ready in the data directory."
   ]
  },
  {
   "cell_type": "markdown",
   "metadata": {},
   "source": [
    "---------\n"
   ]
  },
  {
   "cell_type": "markdown",
   "metadata": {},
   "source": [
    "This code, which can also be found in the  [process_h5ad_data.py] script, explains and lists the steps needed for processing the input.\n",
    "\n",
    "### process the data - filter out cells with shallow reads, normalize depth and change to log scale of about 0-10 (log_2(1001)~=10)\n",
    "\n",
    "    sc.pp.filter_cells(anndata_object,min_genes=200)\n",
    "    sc.pp.normalize_total(anndata_object,1000.)\n",
    "    sc.pp.log1p(anndata_object,base=2)\n",
    "\n",
    "\n",
    "    anndata_object.X.data.min(), anndata_object.X.max()\n",
    "### split range to bins - more or less 0-1,1-2,2-3,..10\n",
    "    bins=np.linspace(anndata_object.X.data.min(), anndata_object.X.max(),num=11)\n",
    "    print(bins)\n",
    "\n",
    "\n",
    "### convert the counts to bins\n",
    "    anndata_object.X.data=np.digitize(anndata_object.X.data, bins)\n",
    "\n",
    "### Save result anndata object to disk\n",
    "    anndata_object.write_h5ad(\"Zheng68k_filtered.h5ad\")\n",
    "\n"
   ]
  },
  {
   "cell_type": "markdown",
   "metadata": {},
   "source": [
    "\n",
    "### Inside the data pipeline the sample is converted to a GeneFormer inspired ordered list of genes.\n",
    "### Note that this is not part of the preprocessing and is only here to explain the process.\n",
    "\n",
    "    def convert_to_double_sorted_geneformer_sequence(anndata_object):\n",
    "\n",
    "        # the genes are sorted by expression bin (descending) and within the bin by the gene names.    \n",
    "        return [a[1] for a in sorted(zip(-anndata_object.X.data,anndata_object.var_names.to_numpy()[anndata_object.X.indices]))]\n",
    "\n"
   ]
  }
 ],
 "metadata": {
  "kernelspec": {
   "display_name": "mammal11",
   "language": "python",
   "name": "python3"
  },
  "language_info": {
   "codemirror_mode": {
    "name": "ipython",
    "version": 3
   },
   "file_extension": ".py",
   "mimetype": "text/x-python",
   "name": "python",
   "nbconvert_exporter": "python",
   "pygments_lexer": "ipython3"
  }
 },
 "nbformat": 4,
 "nbformat_minor": 2
}
